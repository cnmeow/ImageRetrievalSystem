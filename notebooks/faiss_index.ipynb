{
 "cells": [
  {
   "cell_type": "code",
   "execution_count": 2,
   "metadata": {},
   "outputs": [
    {
     "name": "stdout",
     "output_type": "stream",
     "text": [
      "D:\\Information-Retrieval-System\\data\\features\n"
     ]
    }
   ],
   "source": [
    "%cd D:/Information-Retrieval-System/data/features"
   ]
  },
  {
   "cell_type": "code",
   "execution_count": 3,
   "metadata": {},
   "outputs": [],
   "source": [
    "import faiss\n",
    "import numpy as np"
   ]
  },
  {
   "cell_type": "code",
   "execution_count": 4,
   "metadata": {},
   "outputs": [],
   "source": [
    "def load_numpy(numpy_data_path):\n",
    "    np_data = np.load(numpy_data_path)\n",
    "    return np_data\n",
    "\n",
    "def save_bin_file(embeddings, bin_file):\n",
    "    index = faiss.IndexFlatIP(embeddings.shape[1])\n",
    "    index.add(embeddings)\n",
    "    faiss.write_index(index, bin_file)"
   ]
  },
  {
   "cell_type": "code",
   "execution_count": 8,
   "metadata": {},
   "outputs": [],
   "source": [
    "clip_embeddings = load_numpy('./clip/flickr30k/CLIP_encoding.npy')\n",
    "beit_embeddings = load_numpy('./beit/flickr30k/BEIT3_encoding.npy')\n",
    "blip_embeddings = load_numpy('./blip/flickr30k/BLIP2_encoding.npy')"
   ]
  },
  {
   "cell_type": "code",
   "execution_count": 9,
   "metadata": {},
   "outputs": [],
   "source": [
    "save_bin_file(clip_embeddings, 'D:/Information-Retrieval-System/index/flickr30k/clip.bin')\n",
    "save_bin_file(beit_embeddings, 'D:/Information-Retrieval-System/index/flickr30k/beit.bin')\n",
    "save_bin_file(blip_embeddings, 'D:/Information-Retrieval-System/index/flickr30k/blip.bin')"
   ]
  }
 ],
 "metadata": {
  "kernelspec": {
   "display_name": "aic2024-env",
   "language": "python",
   "name": "python3"
  },
  "language_info": {
   "codemirror_mode": {
    "name": "ipython",
    "version": 3
   },
   "file_extension": ".py",
   "mimetype": "text/x-python",
   "name": "python",
   "nbconvert_exporter": "python",
   "pygments_lexer": "ipython3",
   "version": "3.8.19"
  }
 },
 "nbformat": 4,
 "nbformat_minor": 2
}
