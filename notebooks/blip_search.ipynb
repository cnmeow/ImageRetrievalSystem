{
 "cells": [
  {
   "cell_type": "code",
   "execution_count": 1,
   "metadata": {},
   "outputs": [
    {
     "name": "stdout",
     "output_type": "stream",
     "text": [
      "D:\\Information-Retrieval-System\n"
     ]
    }
   ],
   "source": [
    "%cd D:/Information-Retrieval-System/"
   ]
  },
  {
   "cell_type": "code",
   "execution_count": 2,
   "metadata": {},
   "outputs": [
    {
     "name": "stderr",
     "output_type": "stream",
     "text": [
      "c:\\Users\\LONG\\anaconda3\\envs\\aic2024-env\\lib\\site-packages\\tqdm\\auto.py:21: TqdmWarning: IProgress not found. Please update jupyter and ipywidgets. See https://ipywidgets.readthedocs.io/en/stable/user_install.html\n",
      "  from .autonotebook import tqdm as notebook_tqdm\n",
      "c:\\Users\\LONG\\anaconda3\\envs\\aic2024-env\\lib\\site-packages\\transformers\\tokenization_utils_base.py:1601: FutureWarning: `clean_up_tokenization_spaces` was not set. It will be set to `True` by default. This behavior will be depracted in transformers v4.45, and will be then set to `False` by default. For more details check this issue: https://github.com/huggingface/transformers/issues/31884\n",
      "  warnings.warn(\n",
      "c:\\Users\\LONG\\anaconda3\\envs\\aic2024-env\\lib\\site-packages\\lavis\\models\\clip_vit.py:246: FutureWarning: You are using `torch.load` with `weights_only=False` (the current default value), which uses the default pickle module implicitly. It is possible to construct malicious pickle data which will execute arbitrary code during unpickling (See https://github.com/pytorch/pytorch/blob/main/SECURITY.md#untrusted-models for more details). In a future release, the default value for `weights_only` will be flipped to `True`. This limits the functions that could be executed during unpickling. Arbitrary objects will no longer be allowed to be loaded via this mode unless they are explicitly allowlisted by the user via `torch.serialization.add_safe_globals`. We recommend you start setting `weights_only=True` for any use case where you don't have full control of the loaded file. Please open an issue on GitHub for any issues related to this experimental feature.\n",
      "  state_dict = torch.load(cached_file, map_location=\"cpu\")\n",
      "c:\\Users\\LONG\\anaconda3\\envs\\aic2024-env\\lib\\site-packages\\lavis\\models\\blip2_models\\blip2.py:85: FutureWarning: You are using `torch.load` with `weights_only=False` (the current default value), which uses the default pickle module implicitly. It is possible to construct malicious pickle data which will execute arbitrary code during unpickling (See https://github.com/pytorch/pytorch/blob/main/SECURITY.md#untrusted-models for more details). In a future release, the default value for `weights_only` will be flipped to `True`. This limits the functions that could be executed during unpickling. Arbitrary objects will no longer be allowed to be loaded via this mode unless they are explicitly allowlisted by the user via `torch.serialization.add_safe_globals`. We recommend you start setting `weights_only=True` for any use case where you don't have full control of the loaded file. Please open an issue on GitHub for any issues related to this experimental feature.\n",
      "  checkpoint = torch.load(cached_file, map_location=\"cpu\")\n"
     ]
    }
   ],
   "source": [
    "from src.models.blip import BLIPSearchEngine\n",
    "\n",
    "search_engine = BLIPSearchEngine('./index/flickr30k/blip.bin', './index/flickr30k/metadata.json')"
   ]
  },
  {
   "cell_type": "code",
   "execution_count": 7,
   "metadata": {},
   "outputs": [
    {
     "data": {
      "text/plain": [
       "{'./flickr30k/images/34.jpg': 0.48804766,\n",
       " './flickr30k/images/9193.jpg': 0.48775506,\n",
       " './flickr30k/images/3902.jpg': 0.47957447,\n",
       " './flickr30k/images/8636.jpg': 0.47225282,\n",
       " './flickr30k/images/15255.jpg': 0.47183955,\n",
       " './flickr30k/images/9140.jpg': 0.4707299,\n",
       " './flickr30k/images/18366.jpg': 0.46699166,\n",
       " './flickr30k/images/15825.jpg': 0.4644183,\n",
       " './flickr30k/images/12563.jpg': 0.4640354,\n",
       " './flickr30k/images/30772.jpg': 0.46303588,\n",
       " './flickr30k/images/4634.jpg': 0.4590686,\n",
       " './flickr30k/images/10291.jpg': 0.4507658,\n",
       " './flickr30k/images/10649.jpg': 0.44884774,\n",
       " './flickr30k/images/8535.jpg': 0.44865942,\n",
       " './flickr30k/images/10084.jpg': 0.44799325,\n",
       " './flickr30k/images/2172.jpg': 0.44704235,\n",
       " './flickr30k/images/28607.jpg': 0.44594187,\n",
       " './flickr30k/images/25538.jpg': 0.44480908,\n",
       " './flickr30k/images/6059.jpg': 0.44437137,\n",
       " './flickr30k/images/8028.jpg': 0.4430902,\n",
       " './flickr30k/images/5795.jpg': 0.44058567,\n",
       " './flickr30k/images/12537.jpg': 0.43838525,\n",
       " './flickr30k/images/3210.jpg': 0.43669462,\n",
       " './flickr30k/images/17077.jpg': 0.43586168,\n",
       " './flickr30k/images/7767.jpg': 0.43581265,\n",
       " './flickr30k/images/15029.jpg': 0.4352332,\n",
       " './flickr30k/images/1805.jpg': 0.4343801,\n",
       " './flickr30k/images/5856.jpg': 0.43433762,\n",
       " './flickr30k/images/8689.jpg': 0.432828,\n",
       " './flickr30k/images/11553.jpg': 0.4320823,\n",
       " './flickr30k/images/5883.jpg': 0.43196744,\n",
       " './flickr30k/images/5653.jpg': 0.4313916,\n",
       " './flickr30k/images/15193.jpg': 0.43065992,\n",
       " './flickr30k/images/8755.jpg': 0.42970353,\n",
       " './flickr30k/images/10299.jpg': 0.42940956,\n",
       " './flickr30k/images/6629.jpg': 0.42908216,\n",
       " './flickr30k/images/30991.jpg': 0.42728424,\n",
       " './flickr30k/images/357.jpg': 0.42571956,\n",
       " './flickr30k/images/9043.jpg': 0.42483085,\n",
       " './flickr30k/images/7253.jpg': 0.42471808,\n",
       " './flickr30k/images/4244.jpg': 0.4237485,\n",
       " './flickr30k/images/9585.jpg': 0.42289224,\n",
       " './flickr30k/images/3415.jpg': 0.42256647,\n",
       " './flickr30k/images/13028.jpg': 0.42136544,\n",
       " './flickr30k/images/14018.jpg': 0.42051166,\n",
       " './flickr30k/images/13524.jpg': 0.42022112,\n",
       " './flickr30k/images/14704.jpg': 0.4178362,\n",
       " './flickr30k/images/9693.jpg': 0.41772914,\n",
       " './flickr30k/images/7156.jpg': 0.4168642,\n",
       " './flickr30k/images/74.jpg': 0.41647625}"
      ]
     },
     "execution_count": 7,
     "metadata": {},
     "output_type": "execute_result"
    }
   ],
   "source": [
    "search_engine.text_search('A black and white dog is running in a grassy garden surrounded by a white fence.', top_k=50)"
   ]
  }
 ],
 "metadata": {
  "kernelspec": {
   "display_name": "aic2024-env",
   "language": "python",
   "name": "python3"
  },
  "language_info": {
   "codemirror_mode": {
    "name": "ipython",
    "version": 3
   },
   "file_extension": ".py",
   "mimetype": "text/x-python",
   "name": "python",
   "nbconvert_exporter": "python",
   "pygments_lexer": "ipython3",
   "version": "3.8.19"
  }
 },
 "nbformat": 4,
 "nbformat_minor": 2
}
