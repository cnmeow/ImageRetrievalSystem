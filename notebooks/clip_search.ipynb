{
 "cells": [
  {
   "cell_type": "code",
   "execution_count": 11,
   "metadata": {},
   "outputs": [
    {
     "name": "stdout",
     "output_type": "stream",
     "text": [
      "D:\\Information-Retrieval-System\n"
     ]
    }
   ],
   "source": [
    "%cd D:/Information-Retrieval-System/"
   ]
  },
  {
   "cell_type": "code",
   "execution_count": 12,
   "metadata": {},
   "outputs": [
    {
     "name": "stderr",
     "output_type": "stream",
     "text": [
      "c:\\Users\\LONG\\anaconda3\\envs\\aic2024-env\\lib\\site-packages\\open_clip\\factory.py:129: FutureWarning: You are using `torch.load` with `weights_only=False` (the current default value), which uses the default pickle module implicitly. It is possible to construct malicious pickle data which will execute arbitrary code during unpickling (See https://github.com/pytorch/pytorch/blob/main/SECURITY.md#untrusted-models for more details). In a future release, the default value for `weights_only` will be flipped to `True`. This limits the functions that could be executed during unpickling. Arbitrary objects will no longer be allowed to be loaded via this mode unless they are explicitly allowlisted by the user via `torch.serialization.add_safe_globals`. We recommend you start setting `weights_only=True` for any use case where you don't have full control of the loaded file. Please open an issue on GitHub for any issues related to this experimental feature.\n",
      "  checkpoint = torch.load(checkpoint_path, map_location=map_location)\n"
     ]
    }
   ],
   "source": [
    "from src.models.clip import CLIPSearchEngine\n",
    "\n",
    "search_engine = CLIPSearchEngine('./index/flickr30k/clip.bin', './index/flickr30k/metadata.json')"
   ]
  },
  {
   "cell_type": "code",
   "execution_count": null,
   "metadata": {},
   "outputs": [
    {
     "data": {
      "text/plain": [
       "{'./flickr30k/images/12563.jpg': 0.3648709,\n",
       " './flickr30k/images/11553.jpg': 0.35033652,\n",
       " './flickr30k/images/5653.jpg': 0.33621478,\n",
       " './flickr30k/images/320.jpg': 0.33621132,\n",
       " './flickr30k/images/11285.jpg': 0.33578378,\n",
       " './flickr30k/images/30772.jpg': 0.3336234,\n",
       " './flickr30k/images/9193.jpg': 0.33331072,\n",
       " './flickr30k/images/25537.jpg': 0.33324575,\n",
       " './flickr30k/images/34.jpg': 0.33262146,\n",
       " './flickr30k/images/15255.jpg': 0.33011615}"
      ]
     },
     "execution_count": 13,
     "metadata": {},
     "output_type": "execute_result"
    }
   ],
   "source": [
    "search_engine.text_search('A black and white dog is running in a grassy garden surrounded by a white fence.', top_k=10)"
   ]
  }
 ],
 "metadata": {
  "kernelspec": {
   "display_name": "aic2024-env",
   "language": "python",
   "name": "python3"
  },
  "language_info": {
   "codemirror_mode": {
    "name": "ipython",
    "version": 3
   },
   "file_extension": ".py",
   "mimetype": "text/x-python",
   "name": "python",
   "nbconvert_exporter": "python",
   "pygments_lexer": "ipython3",
   "version": "3.8.19"
  }
 },
 "nbformat": 4,
 "nbformat_minor": 2
}
