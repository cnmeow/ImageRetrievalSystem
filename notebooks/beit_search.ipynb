{
 "cells": [
  {
   "cell_type": "code",
   "execution_count": 1,
   "metadata": {},
   "outputs": [
    {
     "name": "stdout",
     "output_type": "stream",
     "text": [
      "D:\\Information-Retrieval-System\n"
     ]
    }
   ],
   "source": [
    "%cd D:/Information-Retrieval-System/"
   ]
  },
  {
   "cell_type": "code",
   "execution_count": 2,
   "metadata": {},
   "outputs": [
    {
     "name": "stderr",
     "output_type": "stream",
     "text": [
      "c:\\Users\\LONG\\anaconda3\\envs\\aic2024-env\\lib\\site-packages\\tqdm\\auto.py:21: TqdmWarning: IProgress not found. Please update jupyter and ipywidgets. See https://ipywidgets.readthedocs.io/en/stable/user_install.html\n",
      "  from .autonotebook import tqdm as notebook_tqdm\n",
      "c:\\Users\\LONG\\anaconda3\\envs\\aic2024-env\\lib\\site-packages\\transformers\\tokenization_utils_base.py:1601: FutureWarning: `clean_up_tokenization_spaces` was not set. It will be set to `True` by default. This behavior will be depracted in transformers v4.45, and will be then set to `False` by default. For more details check this issue: https://github.com/huggingface/transformers/issues/31884\n",
      "  warnings.warn(\n",
      "D:\\Information-Retrieval-System\\src\\models\\beit.py:107: FutureWarning: You are using `torch.load` with `weights_only=False` (the current default value), which uses the default pickle module implicitly. It is possible to construct malicious pickle data which will execute arbitrary code during unpickling (See https://github.com/pytorch/pytorch/blob/main/SECURITY.md#untrusted-models for more details). In a future release, the default value for `weights_only` will be flipped to `True`. This limits the functions that could be executed during unpickling. Arbitrary objects will no longer be allowed to be loaded via this mode unless they are explicitly allowlisted by the user via `torch.serialization.add_safe_globals`. We recommend you start setting `weights_only=True` for any use case where you don't have full control of the loaded file. Please open an issue on GitHub for any issues related to this experimental feature.\n",
      "  checkpoint = torch.load(f'{WEIGHT_DIR}/beit3_base_itc_patch16_224.pth')\n"
     ]
    }
   ],
   "source": [
    "from src.models.beit import BEITSearchEngine\n",
    "\n",
    "search_engine = BEITSearchEngine('./index/flickr30k/beit.bin', './index/flickr30k/metadata.json')"
   ]
  },
  {
   "cell_type": "code",
   "execution_count": 4,
   "metadata": {},
   "outputs": [
    {
     "data": {
      "text/plain": [
       "{'./flickr30k/images/9117.jpg': 0.54837656,\n",
       " './flickr30k/images/26468.jpg': 0.5455478,\n",
       " './flickr30k/images/26710.jpg': 0.54276824,\n",
       " './flickr30k/images/97.jpg': 0.54242146,\n",
       " './flickr30k/images/19420.jpg': 0.5350818,\n",
       " './flickr30k/images/30764.jpg': 0.5315701,\n",
       " './flickr30k/images/8040.jpg': 0.53143024,\n",
       " './flickr30k/images/13856.jpg': 0.5307512,\n",
       " './flickr30k/images/29180.jpg': 0.53049535,\n",
       " './flickr30k/images/3691.jpg': 0.5301094,\n",
       " './flickr30k/images/30835.jpg': 0.52650946,\n",
       " './flickr30k/images/2717.jpg': 0.52643615,\n",
       " './flickr30k/images/1407.jpg': 0.52389777,\n",
       " './flickr30k/images/5109.jpg': 0.5232041,\n",
       " './flickr30k/images/26970.jpg': 0.5229287,\n",
       " './flickr30k/images/26806.jpg': 0.5219043,\n",
       " './flickr30k/images/7081.jpg': 0.52122474,\n",
       " './flickr30k/images/3678.jpg': 0.5183671,\n",
       " './flickr30k/images/20148.jpg': 0.5180127,\n",
       " './flickr30k/images/2764.jpg': 0.51774395,\n",
       " './flickr30k/images/11808.jpg': 0.5164412,\n",
       " './flickr30k/images/2600.jpg': 0.5158584,\n",
       " './flickr30k/images/18071.jpg': 0.51331174,\n",
       " './flickr30k/images/12740.jpg': 0.5123395,\n",
       " './flickr30k/images/8876.jpg': 0.5119568,\n",
       " './flickr30k/images/9094.jpg': 0.5091663,\n",
       " './flickr30k/images/11803.jpg': 0.5089377,\n",
       " './flickr30k/images/22487.jpg': 0.5069668,\n",
       " './flickr30k/images/8439.jpg': 0.50571597,\n",
       " './flickr30k/images/1213.jpg': 0.5057056,\n",
       " './flickr30k/images/4825.jpg': 0.5051183,\n",
       " './flickr30k/images/6608.jpg': 0.5046606,\n",
       " './flickr30k/images/25410.jpg': 0.5040971,\n",
       " './flickr30k/images/2594.jpg': 0.5037738,\n",
       " './flickr30k/images/28448.jpg': 0.50345254,\n",
       " './flickr30k/images/11804.jpg': 0.5018347,\n",
       " './flickr30k/images/3712.jpg': 0.50173974,\n",
       " './flickr30k/images/30981.jpg': 0.5010613,\n",
       " './flickr30k/images/8373.jpg': 0.5007912,\n",
       " './flickr30k/images/453.jpg': 0.5004803,\n",
       " './flickr30k/images/12739.jpg': 0.49990046,\n",
       " './flickr30k/images/25224.jpg': 0.49903718,\n",
       " './flickr30k/images/13117.jpg': 0.49898693,\n",
       " './flickr30k/images/10067.jpg': 0.49861187,\n",
       " './flickr30k/images/2603.jpg': 0.49765986,\n",
       " './flickr30k/images/15454.jpg': 0.49717224,\n",
       " './flickr30k/images/24148.jpg': 0.49682313,\n",
       " './flickr30k/images/20797.jpg': 0.49661022,\n",
       " './flickr30k/images/20027.jpg': 0.4958908,\n",
       " './flickr30k/images/14210.jpg': 0.49581084}"
      ]
     },
     "execution_count": 4,
     "metadata": {},
     "output_type": "execute_result"
    }
   ],
   "source": [
    "search_engine.text_search('Three men are working on a roof.', top_k=50)"
   ]
  }
 ],
 "metadata": {
  "kernelspec": {
   "display_name": "aic2024-env",
   "language": "python",
   "name": "python3"
  },
  "language_info": {
   "codemirror_mode": {
    "name": "ipython",
    "version": 3
   },
   "file_extension": ".py",
   "mimetype": "text/x-python",
   "name": "python",
   "nbconvert_exporter": "python",
   "pygments_lexer": "ipython3",
   "version": "3.8.19"
  }
 },
 "nbformat": 4,
 "nbformat_minor": 2
}
